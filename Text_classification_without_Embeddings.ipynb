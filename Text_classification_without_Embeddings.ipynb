{
  "nbformat": 4,
  "nbformat_minor": 0,
  "metadata": {
    "colab": {
      "provenance": []
    },
    "kernelspec": {
      "name": "python3",
      "display_name": "Python 3"
    },
    "language_info": {
      "name": "python"
    }
  },
  "cells": [
    {
      "cell_type": "code",
      "source": [
        "import tensorflow as tf\n",
        "import numpy as np\n",
        "import tensorflow.keras as keras\n",
        "from tensorflow.keras.datasets import imdb\n",
        "import matplotlib.pyplot as plt"
      ],
      "metadata": {
        "id": "nDlm29ZgbZQF"
      },
      "execution_count": 9,
      "outputs": []
    },
    {
      "cell_type": "markdown",
      "source": [
        "*Binary Classification*"
      ],
      "metadata": {
        "id": "a_pNihYwYVaM"
      }
    },
    {
      "cell_type": "code",
      "execution_count": 78,
      "metadata": {
        "id": "91ixBCcibTHu"
      },
      "outputs": [],
      "source": [
        "# load IMDB data and vectorize only top 10,000 most frequently occurring words\n",
        "\n",
        "(train_data, train_labels), (test_data, test_labels) = imdb.load_data(num_words=10000)"
      ]
    },
    {
      "cell_type": "code",
      "source": [
        "train_data.shape"
      ],
      "metadata": {
        "colab": {
          "base_uri": "https://localhost:8080/"
        },
        "id": "sMzs2ienbp1f",
        "outputId": "51ff6548-abba-49dd-cc7f-10109562e964"
      },
      "execution_count": 79,
      "outputs": [
        {
          "output_type": "execute_result",
          "data": {
            "text/plain": [
              "(25000,)"
            ]
          },
          "metadata": {},
          "execution_count": 79
        }
      ]
    },
    {
      "cell_type": "code",
      "source": [
        "# 0 denotes negative reviews & 1 denotes positive reviews\n",
        "train_labels"
      ],
      "metadata": {
        "colab": {
          "base_uri": "https://localhost:8080/"
        },
        "id": "L9A6qHombss6",
        "outputId": "32aea3d6-b16f-4370-a6be-f8225e7c4645"
      },
      "execution_count": 80,
      "outputs": [
        {
          "output_type": "execute_result",
          "data": {
            "text/plain": [
              "array([1, 0, 0, ..., 0, 1, 0])"
            ]
          },
          "metadata": {},
          "execution_count": 80
        }
      ]
    },
    {
      "cell_type": "code",
      "source": [
        "# dictionary mapping word to numbers\n",
        "word_index = imdb.get_word_index()"
      ],
      "metadata": {
        "id": "JnPH4At_c6m0"
      },
      "execution_count": 81,
      "outputs": []
    },
    {
      "cell_type": "code",
      "source": [
        "reverse_word_index = dict([(value, key) for (key, value) in word_index.items()])"
      ],
      "metadata": {
        "id": "z-4m-Q1xdGUM"
      },
      "execution_count": 82,
      "outputs": []
    },
    {
      "cell_type": "code",
      "source": [
        "# print the english version on a sample review. The original dataset is offset by 3 values\n",
        "# because 0, 1, and 2 are reserved indices for padding, start of sequence, and unknown.\n",
        "\n",
        "for word in train_data[2]:\n",
        "    print(reverse_word_index.get(word - 3, \"?\"), end = \" \")"
      ],
      "metadata": {
        "colab": {
          "base_uri": "https://localhost:8080/"
        },
        "id": "FVAEkzBsdIno",
        "outputId": "99511983-8350-4221-b370-51329ebcf0f2"
      },
      "execution_count": 83,
      "outputs": [
        {
          "output_type": "stream",
          "name": "stdout",
          "text": [
            "? this has to be one of the worst films of the 1990s when my friends i were watching this film being the target audience it was aimed at we just sat watched the first half an hour with our jaws touching the floor at how bad it really was the rest of the time everyone else in the theatre just started talking to each other leaving or generally crying into their popcorn that they actually paid money they had ? working to watch this feeble excuse for a film it must have looked like a great idea on paper but on film it looks like no one in the film has a clue what is going on crap acting crap costumes i can't get across how ? this is to watch save yourself an hour a bit of your life "
          ]
        }
      ]
    },
    {
      "cell_type": "code",
      "source": [
        "for review in train_data[:5]:\n",
        "    print(len(review))"
      ],
      "metadata": {
        "colab": {
          "base_uri": "https://localhost:8080/"
        },
        "id": "Uqsxnau5bjgX",
        "outputId": "dd2afc7e-aec5-43b9-836b-4e89f41e65ab"
      },
      "execution_count": 84,
      "outputs": [
        {
          "output_type": "stream",
          "name": "stdout",
          "text": [
            "218\n",
            "189\n",
            "141\n",
            "550\n",
            "147\n"
          ]
        }
      ]
    },
    {
      "cell_type": "code",
      "source": [
        "# multi-hot encode the reviews and make their length similar\n",
        "\n",
        "def encode_data(data):\n",
        "    encoded_data = np.zeros(shape=(len(data), 10000), dtype=np.float32)\n",
        "\n",
        "    for index, sentence in enumerate(data):\n",
        "        for word in sentence:\n",
        "            encoded_data[index, word] = 1\n",
        "\n",
        "    return encoded_data"
      ],
      "metadata": {
        "id": "6LRTSyGId9Wt"
      },
      "execution_count": 7,
      "outputs": []
    },
    {
      "cell_type": "code",
      "source": [
        "train_data = encode_data(train_data)\n",
        "test_data = encode_data(test_data)"
      ],
      "metadata": {
        "id": "RSJio7vMjmJ7"
      },
      "execution_count": 86,
      "outputs": []
    },
    {
      "cell_type": "code",
      "source": [
        "train_labels.dtype"
      ],
      "metadata": {
        "colab": {
          "base_uri": "https://localhost:8080/"
        },
        "id": "HPf4GmoVM5i7",
        "outputId": "1072de7c-db01-4b78-b03f-d349c7525e24"
      },
      "execution_count": 87,
      "outputs": [
        {
          "output_type": "execute_result",
          "data": {
            "text/plain": [
              "dtype('int64')"
            ]
          },
          "metadata": {},
          "execution_count": 87
        }
      ]
    },
    {
      "cell_type": "code",
      "source": [
        "train_labels = np.asarray(train_labels).astype(\"float32\")\n",
        "test_labels = np.asarray(test_labels).astype(\"float32\")"
      ],
      "metadata": {
        "id": "BCJvJPJBhJxe"
      },
      "execution_count": 88,
      "outputs": []
    },
    {
      "cell_type": "code",
      "source": [
        "# build and compile the model\n",
        "\n",
        "model = keras.Sequential([\n",
        "    keras.layers.Dense(16, activation=\"relu\"),\n",
        "    keras.layers.Dense(16, activation=\"relu\"),\n",
        "    keras.layers.Dense(1, activation=\"sigmoid\")\n",
        "])"
      ],
      "metadata": {
        "id": "6pg3kvxNQU8V"
      },
      "execution_count": 89,
      "outputs": []
    },
    {
      "cell_type": "code",
      "source": [
        "# binary cross-entropy measure the difference between 2 probability distributions\n",
        "# and hence it is the best loss function for binary classification\n",
        "\n",
        "model.compile(optimizer=\"rmsprop\", loss=\"binary_crossentropy\", metrics=[\"accuracy\"])"
      ],
      "metadata": {
        "id": "9aGGpS1tQyAk"
      },
      "execution_count": 90,
      "outputs": []
    },
    {
      "cell_type": "code",
      "source": [
        "# generate a validation set from the training data\n",
        "\n",
        "val_data = train_data[:5000]\n",
        "partial_train_data = train_data[5000:]\n",
        "val_labels = train_labels[:5000]\n",
        "partial_train_labels = train_labels[5000:]"
      ],
      "metadata": {
        "id": "wOkyA7imT-ii"
      },
      "execution_count": 91,
      "outputs": []
    },
    {
      "cell_type": "code",
      "source": [
        "history = model.fit(partial_train_data,partial_train_labels,\n",
        " epochs=20,\n",
        " batch_size=512,\n",
        " validation_data=(val_data, val_labels))"
      ],
      "metadata": {
        "colab": {
          "base_uri": "https://localhost:8080/"
        },
        "id": "XYmggjTNUhgM",
        "outputId": "1b3e3a5d-fc2a-40d5-c84d-833d82604f61"
      },
      "execution_count": 92,
      "outputs": [
        {
          "output_type": "stream",
          "name": "stdout",
          "text": [
            "Epoch 1/20\n",
            "40/40 [==============================] - 4s 64ms/step - loss: 0.4772 - accuracy: 0.7958 - val_loss: 0.3614 - val_accuracy: 0.8672\n",
            "Epoch 2/20\n",
            "40/40 [==============================] - 1s 29ms/step - loss: 0.2809 - accuracy: 0.9007 - val_loss: 0.2829 - val_accuracy: 0.8882\n",
            "Epoch 3/20\n",
            "40/40 [==============================] - 1s 32ms/step - loss: 0.2155 - accuracy: 0.9236 - val_loss: 0.2994 - val_accuracy: 0.8822\n",
            "Epoch 4/20\n",
            "40/40 [==============================] - 1s 28ms/step - loss: 0.1786 - accuracy: 0.9370 - val_loss: 0.2704 - val_accuracy: 0.8934\n",
            "Epoch 5/20\n",
            "40/40 [==============================] - 1s 26ms/step - loss: 0.1520 - accuracy: 0.9473 - val_loss: 0.2843 - val_accuracy: 0.8898\n",
            "Epoch 6/20\n",
            "40/40 [==============================] - 1s 28ms/step - loss: 0.1304 - accuracy: 0.9559 - val_loss: 0.3854 - val_accuracy: 0.8692\n",
            "Epoch 7/20\n",
            "40/40 [==============================] - 1s 32ms/step - loss: 0.1152 - accuracy: 0.9600 - val_loss: 0.3147 - val_accuracy: 0.8880\n",
            "Epoch 8/20\n",
            "40/40 [==============================] - 1s 28ms/step - loss: 0.0984 - accuracy: 0.9696 - val_loss: 0.3258 - val_accuracy: 0.8858\n",
            "Epoch 9/20\n",
            "40/40 [==============================] - 1s 29ms/step - loss: 0.0879 - accuracy: 0.9716 - val_loss: 0.3830 - val_accuracy: 0.8688\n",
            "Epoch 10/20\n",
            "40/40 [==============================] - 2s 39ms/step - loss: 0.0751 - accuracy: 0.9771 - val_loss: 0.3661 - val_accuracy: 0.8816\n",
            "Epoch 11/20\n",
            "40/40 [==============================] - 2s 39ms/step - loss: 0.0665 - accuracy: 0.9798 - val_loss: 0.3866 - val_accuracy: 0.8812\n",
            "Epoch 12/20\n",
            "40/40 [==============================] - 1s 35ms/step - loss: 0.0540 - accuracy: 0.9856 - val_loss: 0.4137 - val_accuracy: 0.8788\n",
            "Epoch 13/20\n",
            "40/40 [==============================] - 1s 28ms/step - loss: 0.0508 - accuracy: 0.9862 - val_loss: 0.4316 - val_accuracy: 0.8742\n",
            "Epoch 14/20\n",
            "40/40 [==============================] - 1s 28ms/step - loss: 0.0360 - accuracy: 0.9925 - val_loss: 0.4621 - val_accuracy: 0.8748\n",
            "Epoch 15/20\n",
            "40/40 [==============================] - 1s 28ms/step - loss: 0.0393 - accuracy: 0.9894 - val_loss: 0.4810 - val_accuracy: 0.8730\n",
            "Epoch 16/20\n",
            "40/40 [==============================] - 1s 27ms/step - loss: 0.0307 - accuracy: 0.9926 - val_loss: 0.5067 - val_accuracy: 0.8746\n",
            "Epoch 17/20\n",
            "40/40 [==============================] - 1s 28ms/step - loss: 0.0227 - accuracy: 0.9958 - val_loss: 0.5319 - val_accuracy: 0.8716\n",
            "Epoch 18/20\n",
            "40/40 [==============================] - 1s 28ms/step - loss: 0.0243 - accuracy: 0.9951 - val_loss: 0.5698 - val_accuracy: 0.8640\n",
            "Epoch 19/20\n",
            "40/40 [==============================] - 1s 27ms/step - loss: 0.0192 - accuracy: 0.9961 - val_loss: 0.5865 - val_accuracy: 0.8702\n",
            "Epoch 20/20\n",
            "40/40 [==============================] - 1s 27ms/step - loss: 0.0160 - accuracy: 0.9969 - val_loss: 0.6109 - val_accuracy: 0.8702\n"
          ]
        }
      ]
    },
    {
      "cell_type": "code",
      "source": [
        "training_loss = history.history[\"loss\"]\n",
        "validation_loss = history.history[\"val_loss\"]"
      ],
      "metadata": {
        "id": "WYS6jxQGVFmq"
      },
      "execution_count": 93,
      "outputs": []
    },
    {
      "cell_type": "code",
      "source": [
        "plt.plot(range(20),training_loss, label = \"train-loss\")\n",
        "plt.plot(range(20),validation_loss, label = \"valid-loss\")\n",
        "plt.legend()\n",
        "plt.show()"
      ],
      "metadata": {
        "colab": {
          "base_uri": "https://localhost:8080/",
          "height": 430
        },
        "id": "8QxNp1jZgO_7",
        "outputId": "22462db7-51d9-48a9-9aeb-99cac0d449fb"
      },
      "execution_count": 94,
      "outputs": [
        {
          "output_type": "display_data",
          "data": {
            "text/plain": [
              "<Figure size 640x480 with 1 Axes>"
            ],
            "image/png": "[encoded data removed]"
          },
          "metadata": {}
        }
      ]
    },
    {
      "cell_type": "code",
      "source": [
        "# evaluate the model on test data using the evaluate() method\n",
        "\n",
        "model.evaluate(test_data, test_labels)"
      ],
      "metadata": {
        "colab": {
          "base_uri": "https://localhost:8080/"
        },
        "id": "fC0-g-XHiMDp",
        "outputId": "e1b9ca6f-351a-4dad-fac3-f14fa723f0c2"
      },
      "execution_count": 95,
      "outputs": [
        {
          "output_type": "stream",
          "name": "stdout",
          "text": [
            "782/782 [==============================] - 2s 3ms/step - loss: 0.6646 - accuracy: 0.8568\n"
          ]
        },
        {
          "output_type": "execute_result",
          "data": {
            "text/plain": [
              "[0.6645960807800293, 0.8568000197410583]"
            ]
          },
          "metadata": {},
          "execution_count": 95
        }
      ]
    },
    {
      "cell_type": "code",
      "source": [
        "# build and compile a better model by reducing the training epochs\n",
        "# until the point where overfitting seems to start (approximately at epoch 5)\n",
        "\n",
        "model2 = keras.Sequential([\n",
        "    keras.layers.Dense(16, activation=\"relu\"),\n",
        "    keras.layers.Dense(16, activation=\"relu\"),\n",
        "    keras.layers.Dense(1, activation=\"sigmoid\")\n",
        "])\n",
        "\n",
        "model2.compile(optimizer = \"rmsprop\", loss=\"binary_crossentropy\", metrics=[\"accuracy\"])\n",
        "\n",
        "history = model2.fit(partial_train_data,partial_train_labels,\n",
        " epochs=5,\n",
        " batch_size=512,\n",
        " validation_data=(val_data, val_labels))"
      ],
      "metadata": {
        "colab": {
          "base_uri": "https://localhost:8080/"
        },
        "id": "sRFZUj98hVpO",
        "outputId": "0e8941c1-af96-4dd1-c172-e21342ab0f89"
      },
      "execution_count": 96,
      "outputs": [
        {
          "output_type": "stream",
          "name": "stdout",
          "text": [
            "Epoch 1/5\n",
            "40/40 [==============================] - 2s 39ms/step - loss: 0.5084 - accuracy: 0.7969 - val_loss: 0.3919 - val_accuracy: 0.8602\n",
            "Epoch 2/5\n",
            "40/40 [==============================] - 1s 28ms/step - loss: 0.3059 - accuracy: 0.8989 - val_loss: 0.2964 - val_accuracy: 0.8844\n",
            "Epoch 3/5\n",
            "40/40 [==============================] - 1s 29ms/step - loss: 0.2340 - accuracy: 0.9189 - val_loss: 0.2846 - val_accuracy: 0.8836\n",
            "Epoch 4/5\n",
            "40/40 [==============================] - 1s 29ms/step - loss: 0.1949 - accuracy: 0.9325 - val_loss: 0.2686 - val_accuracy: 0.8924\n",
            "Epoch 5/5\n",
            "40/40 [==============================] - 1s 29ms/step - loss: 0.1670 - accuracy: 0.9425 - val_loss: 0.2738 - val_accuracy: 0.8904\n"
          ]
        }
      ]
    },
    {
      "cell_type": "markdown",
      "source": [
        "**The Most important question!**"
      ],
      "metadata": {
        "id": "LTzXJ6jSlyjI"
      }
    },
    {
      "cell_type": "markdown",
      "source": [
        "**WHY** this sort of an approach works?\n",
        "\n",
        "How does a multi-hot encoded sequence passed into a simple neural network relate to the sentiment of the sentence?"
      ],
      "metadata": {
        "id": "ksiShl-nmjPf"
      }
    },
    {
      "cell_type": "markdown",
      "source": [
        "Ans:\n",
        "\n",
        "Probably because, the network learns the relationships between word presence/absence and sentiment. For instance, the network might learn that the presence of words like \"love\" or \"fantastic\" is associated with positive sentiment, while words like \"worst\" or \"horrible\" are associated with negative sentiment."
      ],
      "metadata": {
        "id": "2F1AVQytmWNm"
      }
    },
    {
      "cell_type": "code",
      "source": [
        "# let's try with a tricky example\n",
        "\n",
        "review = [\"movie\", \"is\", \"also\", \"light\", \"and\", \"very\", \"old\", \"story\"] #, \"they\", \"did\", \"make\", \"a\", \"bad\", \"film\"]"
      ],
      "metadata": {
        "id": "lNJx-6IwmVe1"
      },
      "execution_count": 155,
      "outputs": []
    },
    {
      "cell_type": "code",
      "source": [
        "vector = [word_index[word] for word in review]\n",
        "vector = np.expand_dims(vector, axis = 0)\n",
        "vector = encode_data(vector)"
      ],
      "metadata": {
        "id": "cKtrBrAblef_"
      },
      "execution_count": 156,
      "outputs": []
    },
    {
      "cell_type": "code",
      "source": [
        "vector"
      ],
      "metadata": {
        "colab": {
          "base_uri": "https://localhost:8080/"
        },
        "id": "T0SUpSTyqG40",
        "outputId": "019bbb6b-9bd2-43a8-b76f-52577ae0b6de"
      },
      "execution_count": 157,
      "outputs": [
        {
          "output_type": "execute_result",
          "data": {
            "text/plain": [
              "array([[0., 0., 1., ..., 0., 0., 0.]], dtype=float32)"
            ]
          },
          "metadata": {},
          "execution_count": 157
        }
      ]
    },
    {
      "cell_type": "code",
      "source": [
        "model2.predict(vector)"
      ],
      "metadata": {
        "colab": {
          "base_uri": "https://localhost:8080/"
        },
        "id": "K4rlTCsPledh",
        "outputId": "0f39a564-3aa3-42fb-b87a-8b77d390062f"
      },
      "execution_count": 158,
      "outputs": [
        {
          "output_type": "stream",
          "name": "stdout",
          "text": [
            "1/1 [==============================] - 0s 23ms/step\n"
          ]
        },
        {
          "output_type": "execute_result",
          "data": {
            "text/plain": [
              "array([[0.57193756]], dtype=float32)"
            ]
          },
          "metadata": {},
          "execution_count": 158
        }
      ]
    },
    {
      "cell_type": "markdown",
      "source": [
        "*Multi-class Classification*"
      ],
      "metadata": {
        "id": "z51wTv73YesU"
      }
    },
    {
      "cell_type": "code",
      "source": [
        "# import dataset\n",
        "\n",
        "from tensorflow.keras.datasets import reuters\n",
        "\n",
        "(train_data, train_labels), (test_data, test_labels) = reuters.load_data(\n",
        "    num_words=10000)"
      ],
      "metadata": {
        "id": "KiQ5rUYPYOU1",
        "colab": {
          "base_uri": "https://localhost:8080/"
        },
        "outputId": "d15f3b8b-76c1-46e9-ae00-1ebbd7ddb968"
      },
      "execution_count": 2,
      "outputs": [
        {
          "output_type": "stream",
          "name": "stdout",
          "text": [
            "Downloading data from https://storage.googleapis.com/tensorflow/tf-keras-datasets/reuters.npz\n",
            "2110848/2110848 [==============================] - 0s 0us/step\n"
          ]
        }
      ]
    },
    {
      "cell_type": "code",
      "source": [
        "train_labels[34]"
      ],
      "metadata": {
        "colab": {
          "base_uri": "https://localhost:8080/"
        },
        "id": "I8KPVAVeYot1",
        "outputId": "cfa0be7a-5bce-4e61-87c7-d9a413a0d4c6"
      },
      "execution_count": 3,
      "outputs": [
        {
          "output_type": "execute_result",
          "data": {
            "text/plain": [
              "1"
            ]
          },
          "metadata": {},
          "execution_count": 3
        }
      ]
    },
    {
      "cell_type": "code",
      "source": [
        "word_index = reuters.get_word_index()"
      ],
      "metadata": {
        "id": "-UY1HKsCZG8e",
        "colab": {
          "base_uri": "https://localhost:8080/"
        },
        "outputId": "b605be90-84de-4e27-b24c-84361aa4fc24"
      },
      "execution_count": 4,
      "outputs": [
        {
          "output_type": "stream",
          "name": "stdout",
          "text": [
            "Downloading data from https://storage.googleapis.com/tensorflow/tf-keras-datasets/reuters_word_index.json\n",
            "550378/550378 [==============================] - 0s 0us/step\n"
          ]
        }
      ]
    },
    {
      "cell_type": "code",
      "source": [
        "# show a sample sentence from the dataset\n",
        "\n",
        "reverse_word_index = dict([(value, key) for (key, value) in word_index.items()])\n",
        "\n",
        "for word in train_data[25]:\n",
        "    print(reverse_word_index.get(word - 3, \"?\"), end = \" \")"
      ],
      "metadata": {
        "colab": {
          "base_uri": "https://localhost:8080/"
        },
        "id": "NS_jnuqbYup9",
        "outputId": "b472938c-5f26-40ee-e70c-413ea271df5d"
      },
      "execution_count": 5,
      "outputs": [
        {
          "output_type": "stream",
          "name": "stdout",
          "text": [
            "? there were 106 200 tonnes of u s corn shipped to the soviet union in the week ended march 26 according to the u s agriculture department's latest export sales report there were no wheat or soybean shipments during the week the ussr has purchased 2 65 mln tonnes of u s corn as of march 26 for delivery in the fourth year of the u s ussr grain agreement total shipments in the third year of the u s ussr grains agreement which ended september 30 amounted to 152 600 tonnes of wheat 6 808 100 tonnes of corn and 1 518 700 tonnes of soybeans reuter 3 "
          ]
        }
      ]
    },
    {
      "cell_type": "code",
      "source": [
        "# encode input sequences into multi-hot encodings of equal length\n",
        "\n",
        "train_data = encode_data(train_data)\n",
        "test_data = encode_data(test_data)"
      ],
      "metadata": {
        "id": "2oFjEFd7ZBRi"
      },
      "execution_count": 10,
      "outputs": []
    },
    {
      "cell_type": "code",
      "source": [
        "# convert the labels into one-hot encoding format\n",
        "\n",
        "from tensorflow.keras.utils import to_categorical\n",
        "\n",
        "train_labels = to_categorical(train_labels)\n",
        "test_labels = to_categorical(test_labels)"
      ],
      "metadata": {
        "id": "lrUyBKIZjBkb"
      },
      "execution_count": 11,
      "outputs": []
    },
    {
      "cell_type": "code",
      "source": [
        "train_labels[0]"
      ],
      "metadata": {
        "colab": {
          "base_uri": "https://localhost:8080/"
        },
        "id": "tQIC0YL1jBha",
        "outputId": "e19f2544-b69b-4efb-cbfe-4e7d47ced160"
      },
      "execution_count": 12,
      "outputs": [
        {
          "output_type": "execute_result",
          "data": {
            "text/plain": [
              "array([0., 0., 0., 1., 0., 0., 0., 0., 0., 0., 0., 0., 0., 0., 0., 0., 0.,\n",
              "       0., 0., 0., 0., 0., 0., 0., 0., 0., 0., 0., 0., 0., 0., 0., 0., 0.,\n",
              "       0., 0., 0., 0., 0., 0., 0., 0., 0., 0., 0., 0.], dtype=float32)"
            ]
          },
          "metadata": {},
          "execution_count": 12
        }
      ]
    },
    {
      "cell_type": "code",
      "source": [
        "len(train_labels[0])"
      ],
      "metadata": {
        "colab": {
          "base_uri": "https://localhost:8080/"
        },
        "id": "BpR3wfYiuDrd",
        "outputId": "a43bcb1b-d04e-4fc3-8815-e040648f0fe7"
      },
      "execution_count": 14,
      "outputs": [
        {
          "output_type": "execute_result",
          "data": {
            "text/plain": [
              "46"
            ]
          },
          "metadata": {},
          "execution_count": 14
        }
      ]
    },
    {
      "cell_type": "code",
      "source": [
        "# build the model\n",
        "\n",
        "model = keras.Sequential([\n",
        " keras.layers.Dense(64, activation=\"relu\"),\n",
        " keras.layers.Dense(64, activation=\"relu\"),\n",
        " keras.layers.Dense(46, activation=\"softmax\")])"
      ],
      "metadata": {
        "id": "tT0SIg5huHd8"
      },
      "execution_count": 15,
      "outputs": []
    },
    {
      "cell_type": "code",
      "source": [
        "model.compile(optimizer=\"rmsprop\", loss=\"categorical_crossentropy\", metrics=[\"accuracy\"])"
      ],
      "metadata": {
        "id": "p3AtHFF0uTpK"
      },
      "execution_count": 16,
      "outputs": []
    },
    {
      "cell_type": "code",
      "source": [
        "# generate a validation set from the training data\n",
        "\n",
        "val_data = train_data[:1000]\n",
        "partial_train_data = train_data[1000:]\n",
        "val_labels = train_labels[:1000]\n",
        "partial_train_labels = train_labels[1000:]"
      ],
      "metadata": {
        "id": "4Pnpt_E1ua1x"
      },
      "execution_count": 17,
      "outputs": []
    },
    {
      "cell_type": "code",
      "source": [
        "# model training\n",
        "\n",
        "history = model.fit(partial_train_data,\n",
        "partial_train_labels,\n",
        "epochs=20,\n",
        "batch_size=512,\n",
        "validation_data=(val_data, val_labels))"
      ],
      "metadata": {
        "colab": {
          "base_uri": "https://localhost:8080/"
        },
        "id": "0Jcj5oM7ujHR",
        "outputId": "4f20fd9d-2775-4db2-dfe4-cd6bd9deca88"
      },
      "execution_count": 18,
      "outputs": [
        {
          "output_type": "stream",
          "name": "stdout",
          "text": [
            "Epoch 1/20\n",
            "16/16 [==============================] - 2s 62ms/step - loss: 2.8190 - accuracy: 0.5200 - val_loss: 1.8540 - val_accuracy: 0.6340\n",
            "Epoch 2/20\n",
            "16/16 [==============================] - 1s 44ms/step - loss: 1.5401 - accuracy: 0.6840 - val_loss: 1.3712 - val_accuracy: 0.6840\n",
            "Epoch 3/20\n",
            "16/16 [==============================] - 1s 46ms/step - loss: 1.1658 - accuracy: 0.7479 - val_loss: 1.1711 - val_accuracy: 0.7410\n",
            "Epoch 4/20\n",
            "16/16 [==============================] - 1s 66ms/step - loss: 0.9439 - accuracy: 0.8024 - val_loss: 1.0665 - val_accuracy: 0.7650\n",
            "Epoch 5/20\n",
            "16/16 [==============================] - 1s 45ms/step - loss: 0.7836 - accuracy: 0.8349 - val_loss: 0.9883 - val_accuracy: 0.8010\n",
            "Epoch 6/20\n",
            "16/16 [==============================] - 1s 54ms/step - loss: 0.6548 - accuracy: 0.8601 - val_loss: 0.9298 - val_accuracy: 0.8010\n",
            "Epoch 7/20\n",
            "16/16 [==============================] - 1s 74ms/step - loss: 0.5505 - accuracy: 0.8796 - val_loss: 0.9022 - val_accuracy: 0.8110\n",
            "Epoch 8/20\n",
            "16/16 [==============================] - 1s 80ms/step - loss: 0.4640 - accuracy: 0.9003 - val_loss: 0.8889 - val_accuracy: 0.8060\n",
            "Epoch 9/20\n",
            "16/16 [==============================] - 1s 74ms/step - loss: 0.3907 - accuracy: 0.9167 - val_loss: 0.8981 - val_accuracy: 0.8010\n",
            "Epoch 10/20\n",
            "16/16 [==============================] - 1s 47ms/step - loss: 0.3388 - accuracy: 0.9248 - val_loss: 0.8525 - val_accuracy: 0.8130\n",
            "Epoch 11/20\n",
            "16/16 [==============================] - 1s 47ms/step - loss: 0.2899 - accuracy: 0.9360 - val_loss: 0.8774 - val_accuracy: 0.8180\n",
            "Epoch 12/20\n",
            "16/16 [==============================] - 1s 45ms/step - loss: 0.2561 - accuracy: 0.9417 - val_loss: 0.8900 - val_accuracy: 0.8100\n",
            "Epoch 13/20\n",
            "16/16 [==============================] - 1s 44ms/step - loss: 0.2255 - accuracy: 0.9471 - val_loss: 0.9097 - val_accuracy: 0.8060\n",
            "Epoch 14/20\n",
            "16/16 [==============================] - 1s 45ms/step - loss: 0.2058 - accuracy: 0.9475 - val_loss: 0.8963 - val_accuracy: 0.8180\n",
            "Epoch 15/20\n",
            "16/16 [==============================] - 1s 44ms/step - loss: 0.1852 - accuracy: 0.9498 - val_loss: 0.9518 - val_accuracy: 0.8000\n",
            "Epoch 16/20\n",
            "16/16 [==============================] - 1s 47ms/step - loss: 0.1715 - accuracy: 0.9546 - val_loss: 0.9022 - val_accuracy: 0.8160\n",
            "Epoch 17/20\n",
            "16/16 [==============================] - 1s 46ms/step - loss: 0.1559 - accuracy: 0.9559 - val_loss: 0.9716 - val_accuracy: 0.8010\n",
            "Epoch 18/20\n",
            "16/16 [==============================] - 1s 46ms/step - loss: 0.1502 - accuracy: 0.9539 - val_loss: 0.9232 - val_accuracy: 0.8090\n",
            "Epoch 19/20\n",
            "16/16 [==============================] - 1s 44ms/step - loss: 0.1395 - accuracy: 0.9551 - val_loss: 1.0050 - val_accuracy: 0.7970\n",
            "Epoch 20/20\n",
            "16/16 [==============================] - 1s 44ms/step - loss: 0.1355 - accuracy: 0.9554 - val_loss: 0.9443 - val_accuracy: 0.8010\n"
          ]
        }
      ]
    },
    {
      "cell_type": "code",
      "source": [
        "training_loss = history.history[\"loss\"]\n",
        "validation_loss = history.history[\"val_loss\"]"
      ],
      "metadata": {
        "id": "nClANsjsu5Wr"
      },
      "execution_count": 19,
      "outputs": []
    },
    {
      "cell_type": "code",
      "source": [
        "# training loss vs validation loss\n",
        "\n",
        "plt.plot(range(20),training_loss, label = \"train-loss\")\n",
        "plt.plot(range(20),validation_loss, label = \"valid-loss\")\n",
        "plt.legend()\n",
        "plt.show()"
      ],
      "metadata": {
        "colab": {
          "base_uri": "https://localhost:8080/",
          "height": 430
        },
        "id": "N33vK_vQvF24",
        "outputId": "123f4e00-9afa-49dc-fa39-4b38d750a084"
      },
      "execution_count": 20,
      "outputs": [
        {
          "output_type": "display_data",
          "data": {
            "text/plain": [
              "<Figure size 640x480 with 1 Axes>"
            ],
            "image/png": "[encoded data removed]"
          },
          "metadata": {}
        }
      ]
    },
    {
      "cell_type": "code",
      "source": [
        "# evaluate the model on test data using the evaluate() method\n",
        "\n",
        "model.evaluate(test_data, test_labels)"
      ],
      "metadata": {
        "colab": {
          "base_uri": "https://localhost:8080/"
        },
        "id": "uBXCZ_5pvLP0",
        "outputId": "cc9092fa-8b89-427a-c624-fa52b4bc0d63"
      },
      "execution_count": 21,
      "outputs": [
        {
          "output_type": "stream",
          "name": "stdout",
          "text": [
            "71/71 [==============================] - 0s 5ms/step - loss: 1.0695 - accuracy: 0.7903\n"
          ]
        },
        {
          "output_type": "execute_result",
          "data": {
            "text/plain": [
              "[1.069498896598816, 0.7902938723564148]"
            ]
          },
          "metadata": {},
          "execution_count": 21
        }
      ]
    },
    {
      "cell_type": "code",
      "source": [
        "# build and compile a better model by reducing the training epochs\n",
        "# until the point where overfitting seems to start (approximately at epoch 9)\n",
        "\n",
        "model3 = keras.Sequential([\n",
        " keras.layers.Dense(64, activation=\"relu\"),\n",
        " keras.layers.Dense(64, activation=\"relu\"),\n",
        " keras.layers.Dense(46, activation=\"softmax\")])\n",
        "\n",
        "model3.compile(optimizer = \"rmsprop\", loss=\"categorical_crossentropy\", metrics=[\"accuracy\"])\n",
        "\n",
        "history = model3.fit(partial_train_data,partial_train_labels,\n",
        " epochs= 9,\n",
        " batch_size=512,\n",
        " validation_data=(val_data, val_labels))"
      ],
      "metadata": {
        "colab": {
          "base_uri": "https://localhost:8080/"
        },
        "id": "KdCa_OlKvRRg",
        "outputId": "64dbe6c8-0375-4342-d054-61959216795e"
      },
      "execution_count": 22,
      "outputs": [
        {
          "output_type": "stream",
          "name": "stdout",
          "text": [
            "Epoch 1/9\n",
            "16/16 [==============================] - 2s 79ms/step - loss: 2.7434 - accuracy: 0.4719 - val_loss: 1.8288 - val_accuracy: 0.6360\n",
            "Epoch 2/9\n",
            "16/16 [==============================] - 1s 86ms/step - loss: 1.5210 - accuracy: 0.6914 - val_loss: 1.3546 - val_accuracy: 0.6990\n",
            "Epoch 3/9\n",
            "16/16 [==============================] - 1s 87ms/step - loss: 1.1520 - accuracy: 0.7547 - val_loss: 1.1741 - val_accuracy: 0.7470\n",
            "Epoch 4/9\n",
            "16/16 [==============================] - 1s 63ms/step - loss: 0.9413 - accuracy: 0.7989 - val_loss: 1.0696 - val_accuracy: 0.7590\n",
            "Epoch 5/9\n",
            "16/16 [==============================] - 1s 47ms/step - loss: 0.7784 - accuracy: 0.8348 - val_loss: 0.9988 - val_accuracy: 0.7870\n",
            "Epoch 6/9\n",
            "16/16 [==============================] - 1s 46ms/step - loss: 0.6523 - accuracy: 0.8649 - val_loss: 0.9527 - val_accuracy: 0.7940\n",
            "Epoch 7/9\n",
            "16/16 [==============================] - 1s 49ms/step - loss: 0.5477 - accuracy: 0.8861 - val_loss: 0.9286 - val_accuracy: 0.7950\n",
            "Epoch 8/9\n",
            "16/16 [==============================] - 1s 48ms/step - loss: 0.4643 - accuracy: 0.9032 - val_loss: 0.9003 - val_accuracy: 0.8130\n",
            "Epoch 9/9\n",
            "16/16 [==============================] - 1s 45ms/step - loss: 0.3920 - accuracy: 0.9167 - val_loss: 0.8969 - val_accuracy: 0.8100\n"
          ]
        }
      ]
    },
    {
      "cell_type": "markdown",
      "source": [
        "Further in this series, various methods to prevent overfitting will be discussed"
      ],
      "metadata": {
        "id": "2YwpiOd3w7mU"
      }
    },
    {
      "cell_type": "code",
      "source": [
        "# reference taken from the book: Deep Learning in Python with Fracois Chollet 2nd ed."
      ],
      "metadata": {
        "id": "ljF-vSbMvtdo"
      },
      "execution_count": null,
      "outputs": []
    }
  ]
}